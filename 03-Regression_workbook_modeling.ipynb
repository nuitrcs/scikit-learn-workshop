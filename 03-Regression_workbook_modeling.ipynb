{
 "cells": [
  {
   "cell_type": "markdown",
   "id": "855e6e11-389a-4edb-9b32-eef018d04f17",
   "metadata": {
    "tags": []
   },
   "source": [
    "# <span style=\"color:deeppink\">Supervised Learning - Linear Regression</span>"
   ]
  },
  {
   "cell_type": "markdown",
   "id": "18b5b8ec-1331-4d52-99f3-1594f4e59e08",
   "metadata": {},
   "source": [
    "# Review from Part 2\n",
    "\n",
    "Remember that to achieve the inference goals of Machine Learning, there are a series of steps we usually take. This is the **Data Science Pipeline**. Note that in practice there will always be situations in which the pipeline looks a bit different, and instead of flowing in one direction, often we encounter iterations. The one presented here serves as a basis for the general principle of inference in Machine Learning.\n",
    "\n",
    "## <span style=\"color:rebeccapurple\">ML workflow steps:</span>\n",
    "\n",
    "1. State the problem\n",
    "2. Gather the data\n",
    "3. Split train-test sets\n",
    "4. Pre-process the data\n",
    "5. Establish a baseline  <-- **You are here**\n",
    "6. Choose a model\n",
    "7. Train the model\n",
    "8. Optimize the model\n",
    "9. Validate the model\n",
    "10. Predict unknown data points using the model\n",
    "11. Interpret and evaluate the model"
   ]
  },
  {
   "cell_type": "markdown",
   "id": "2907e67b-9193-4588-9e65-c22b04ac5f98",
   "metadata": {},
   "source": [
    "Let's import the necessary modules and set some parameters for pretty figures:"
   ]
  },
  {
   "cell_type": "code",
   "execution_count": null,
   "id": "93627e9d-a3f5-429f-a266-e4e5635b6bfb",
   "metadata": {},
   "outputs": [],
   "source": [
    "# imports \n",
    "import pandas as pd\n",
    "import numpy as np\n",
    "import matplotlib\n",
    "import matplotlib.pyplot as plt\n",
    "import matplotlib.image as mpimg\n",
    "import seaborn as sns\n",
    "\n",
    "import sklearn"
   ]
  },
  {
   "cell_type": "code",
   "execution_count": null,
   "id": "8011e1ae-22f6-4452-b777-0d2f2ca1a931",
   "metadata": {},
   "outputs": [],
   "source": [
    "# setting some figure display paramaters\n",
    "sns.set_context('notebook')\n",
    "sns.set_style('white', {'axes.linewidth': 0.5})\n",
    "matplotlib.rcParams.update(matplotlib.rcParamsDefault)\n",
    "\n",
    "plt.rcParams['figure.dpi'] = 150\n",
    "plt.rcParams['xtick.major.size'] = 3\n",
    "plt.rcParams['xtick.major.width'] = 1\n",
    "plt.rcParams['xtick.bottom'] = True\n",
    "plt.rcParams['ytick.left'] = True\n",
    "plt.rcParams['font.family'] = 'sans-serif'\n",
    "plt.rcParams['font.sans-serif'] = 'Arial'\n",
    "plt.rcParams['pdf.fonttype'] = 42\n",
    "plt.rcParams['legend.edgecolor'] = 'w'"
   ]
  },
  {
   "cell_type": "markdown",
   "id": "2e368ea9-a297-4f79-9d8b-3a7318fd56a0",
   "metadata": {},
   "source": [
    "Now let's do a quick review."
   ]
  },
  {
   "cell_type": "markdown",
   "id": "7aa79973-58ed-4853-9f0e-bebc96fca684",
   "metadata": {
    "tags": []
   },
   "source": [
    "## <span style=\"color:rebeccapurple\">1. State the problem</span></h1>"
   ]
  },
  {
   "cell_type": "code",
   "execution_count": null,
   "id": "4e808a58-c45c-4933-86e8-94e08ac1d42d",
   "metadata": {},
   "outputs": [],
   "source": [
    "peng_img = mpimg.imread(\"images/penguins.png\")\n",
    "plt.imshow(peng_img)\n",
    "plt.axis(\"off\")"
   ]
  },
  {
   "cell_type": "markdown",
   "id": "67a205e2-5cc9-4cdf-83dc-3dbf9f114af6",
   "metadata": {},
   "source": [
    "Here's a toy scenario: There is a reported shortage of food in the area, and we want to know if this will be consequential for the penguin populations. For this, we conclude we can calculate a penguin's consumption rate through its body mass. However, weighing the penguins is difficult. On the other hand, visual characteristics like fipper lenght, bill dimension, and sex, are easy to obtain. Our goal is to estimate body mass by using these characteristics.\n",
    "\n",
    "We have obtained complete data (including body mass) of a sample of penguins, so we can learn from that the relationship visual features --> body mass. Using this, it will be easy to estimate the body mass for any future observation.\n",
    "\n",
    "Here is a summary:<br>\n",
    "**Task:** Predict the body mass of penguins through visual features.\n",
    "\n",
    "**Input:** Table of penguins features.\n",
    "\n",
    "**Output:** A value for body mass."
   ]
  },
  {
   "cell_type": "markdown",
   "id": "76669432-196d-433d-be8b-ae07fed81698",
   "metadata": {},
   "source": [
    "## <span style=\"color:rebeccapurple\">2. Gather and inspect the data</span></h1>\n",
    "\n",
    "**Data:** Size measurements for 344 adult foraging Adélie, Chinstrap, and Gentoo penguins observed on islands in the Palmer Archipelago near Palmer Station, Antarctica.\n",
    "\n",
    "The data is in the file <penguins.csv>. Let's load it up and preview the exact measurements we took:"
   ]
  },
  {
   "cell_type": "code",
   "execution_count": null,
   "id": "7adeb1f1-5915-4858-9660-09cf62422eb0",
   "metadata": {},
   "outputs": [],
   "source": [
    "# Let's look at the data\n",
    "df = pd.read_csv('data/penguins.csv')"
   ]
  },
  {
   "cell_type": "markdown",
   "id": "7899a19d-b2e3-4210-a3ad-26e5dd30c39c",
   "metadata": {},
   "source": [
    "<h4><span style=\"color:blue\">Google Colab users only -- un-comment the code lines below and run them to download the dataset and read it</span></h4>"
   ]
  },
  {
   "cell_type": "code",
   "execution_count": null,
   "id": "08bf3048-981d-48e0-826e-a41f0a280e73",
   "metadata": {},
   "outputs": [],
   "source": [
    "# !wget https://raw.githubusercontent.com/nuitrcs/scikit-learn-workshop/main/data/penguins.csv\n",
    "# df = pd.read_csv('penguins.csv')"
   ]
  },
  {
   "cell_type": "code",
   "execution_count": null,
   "id": "038eb1ec-ef38-46ad-a86d-cda60d06174e",
   "metadata": {},
   "outputs": [],
   "source": [
    "df.head()"
   ]
  },
  {
   "cell_type": "code",
   "execution_count": null,
   "id": "3ddb66ca-8e4b-46c6-8b9c-7ab8e83a0d68",
   "metadata": {},
   "outputs": [],
   "source": [
    "df.shape"
   ]
  },
  {
   "cell_type": "markdown",
   "id": "b2c6441b-d2f0-4c25-9905-918763a1fad0",
   "metadata": {},
   "source": [
    "Remember we are interested in body mass, let's look at the distribution among our observations:"
   ]
  },
  {
   "cell_type": "code",
   "execution_count": null,
   "id": "27535947-3e82-4215-b0a1-1c084bef2327",
   "metadata": {},
   "outputs": [],
   "source": [
    "plt.figure(figsize=(4, 2))\n",
    "sns.histplot(df['body_mass_g'], bins=20)\n",
    "plt.title('Distribution of observed penguin body mass (g)')\n",
    "plt.show()"
   ]
  },
  {
   "cell_type": "code",
   "execution_count": null,
   "id": "ab4914cd-0ae4-43a6-bac4-e2d6b87bb8e4",
   "metadata": {},
   "outputs": [],
   "source": [
    "df.groupby(\"sex\").mean(\"body_mass_g\")"
   ]
  },
  {
   "cell_type": "markdown",
   "id": "bc0f3379-801c-4466-bf06-ce430c181f40",
   "metadata": {},
   "source": [
    "<span style=\"color:#DC537D\"><font size=\"+1\">What is the input data for prediction?</font></span>"
   ]
  },
  {
   "cell_type": "code",
   "execution_count": null,
   "id": "3f1d31f0-2098-4bb8-b554-855abb0ec0e5",
   "metadata": {},
   "outputs": [],
   "source": [
    "# select the input data\n",
    "X = df.drop(columns=\"body_mass_g\")\n",
    "X.shape"
   ]
  },
  {
   "cell_type": "markdown",
   "id": "f3b4f7ec-2368-4b85-aa29-ce0fe53df35b",
   "metadata": {},
   "source": [
    "<span style=\"color:#DC537D\"><font size=\"+1\">What is the target to be predicted?</font></span>"
   ]
  },
  {
   "cell_type": "code",
   "execution_count": null,
   "id": "2ce4e193-f99c-444b-b9d0-962034c81735",
   "metadata": {},
   "outputs": [],
   "source": [
    "# select the target column\n",
    "y = df['body_mass_g']\n",
    "y.shape"
   ]
  },
  {
   "cell_type": "markdown",
   "id": "a323072b-6ccd-4cbf-94e4-7dd3233afbaa",
   "metadata": {
    "tags": []
   },
   "source": [
    "## <span style=\"color:rebeccapurple\">3. Split the data into train and test</span></h1>\n",
    "Remember you want to separate the train and test sets very early on, before pre-processing."
   ]
  },
  {
   "cell_type": "markdown",
   "id": "bea1d080-a3ae-4c67-81e9-75a2846963de",
   "metadata": {},
   "source": [
    "<span style=\"color:#DC537D\"><font size=\"+1\">Write code to split the dataset 80-20 train vs test</font></span>"
   ]
  },
  {
   "cell_type": "code",
   "execution_count": null,
   "id": "5452a4bb-a8ba-4445-950c-aa50926c4328",
   "metadata": {},
   "outputs": [],
   "source": [
    "# import the required function\n",
    "from sklearn.model_selection import train_test_split"
   ]
  },
  {
   "cell_type": "code",
   "execution_count": null,
   "id": "8f4bd3bb-cb87-4fe3-8cff-2cd75138193b",
   "metadata": {},
   "outputs": [],
   "source": [
    "# split the dataset\n",
    "X_train, X_test, y_train, y_test = train_test_split(X, y, test_size=0.2)"
   ]
  },
  {
   "cell_type": "code",
   "execution_count": null,
   "id": "ed5a95f8-4934-40e2-a5e6-4e5874e99851",
   "metadata": {},
   "outputs": [],
   "source": [
    "# look at the dimensions of the split data\n",
    "X_train.shape, X_test.shape, y_train.shape, y_test.shape"
   ]
  },
  {
   "cell_type": "markdown",
   "id": "ca957a70-c639-4ce2-8597-9a7793ffe92a",
   "metadata": {},
   "source": [
    "## <span style=\"color:rebeccapurple\">4. Pre-process the training data</span>"
   ]
  },
  {
   "cell_type": "markdown",
   "id": "aa612bd1-858c-40bc-a4f2-b71056831a41",
   "metadata": {},
   "source": [
    "<span style=\"color:#DC537D\"><font size=\"+1\">What kind of pre-processing does our dataset need?</font></span>"
   ]
  },
  {
   "cell_type": "code",
   "execution_count": null,
   "id": "afeaccd8-74ec-4ec8-bc1b-a855d52ae59c",
   "metadata": {},
   "outputs": [],
   "source": [
    "df.columns"
   ]
  },
  {
   "cell_type": "code",
   "execution_count": null,
   "id": "fe848386-5d7a-4bf6-892b-219676f5c942",
   "metadata": {},
   "outputs": [],
   "source": [
    "# list the numerical features\n",
    "numeric_cols = ['bill_length_mm', 'bill_depth_mm', 'flipper_length_mm']"
   ]
  },
  {
   "cell_type": "code",
   "execution_count": null,
   "id": "8b834baa-ace8-4f81-abe1-bece76915981",
   "metadata": {},
   "outputs": [],
   "source": [
    "# list the categorical features\n",
    "categorical_cols = ['species', 'island', 'sex', 'year']"
   ]
  },
  {
   "cell_type": "code",
   "execution_count": null,
   "id": "5530195a-ee14-4db6-86f4-f1acf6e90a61",
   "metadata": {},
   "outputs": [],
   "source": [
    "# check the shapes\n",
    "X_train[numeric_cols].shape, X_train[categorical_cols].shape"
   ]
  },
  {
   "cell_type": "markdown",
   "id": "953c1879-eb3e-4f4f-ac2b-07bd9d067c9c",
   "metadata": {},
   "source": [
    "<span style=\"color:#DC537D\"><font size=\"+1\">Standardize the numeric input features</font></span>"
   ]
  },
  {
   "cell_type": "code",
   "execution_count": null,
   "id": "cfde1c42-d053-48cf-987d-ca3cfb593be5",
   "metadata": {},
   "outputs": [],
   "source": [
    "# import scaler\n",
    "from sklearn.preprocessing import StandardScaler"
   ]
  },
  {
   "cell_type": "code",
   "execution_count": null,
   "id": "59b91f70-dc63-407c-b172-9725019045c7",
   "metadata": {},
   "outputs": [],
   "source": [
    "# create instance\n",
    "scaler = StandardScaler()"
   ]
  },
  {
   "cell_type": "code",
   "execution_count": null,
   "id": "93a01fdb-4776-4b78-8d00-90ee004e7eeb",
   "metadata": {},
   "outputs": [],
   "source": [
    "# fit to the numerical columns of training X\n",
    "scaler.fit(X_train[numeric_cols])"
   ]
  },
  {
   "cell_type": "code",
   "execution_count": null,
   "id": "40c65cbe-38ad-418f-b728-883a41f9909d",
   "metadata": {},
   "outputs": [],
   "source": [
    "# transform numerical columns of both training X and testing X\n",
    "numeric_X_train = scaler.transform(X_train[numeric_cols])\n",
    "numeric_X_test = scaler.transform(X_test[numeric_cols])"
   ]
  },
  {
   "cell_type": "code",
   "execution_count": null,
   "id": "a7c5d5c5-a839-4ae2-bf80-99685d0841cb",
   "metadata": {},
   "outputs": [],
   "source": [
    "# check the shapes of the transformed numeric data\n",
    "numeric_X_train.shape, numeric_X_test.shape"
   ]
  },
  {
   "cell_type": "code",
   "execution_count": null,
   "id": "09d646da-81ac-4272-bc55-eff225c630f4",
   "metadata": {},
   "outputs": [],
   "source": []
  },
  {
   "cell_type": "markdown",
   "id": "68f3f638-b8eb-4d8f-a7df-67ba0727132a",
   "metadata": {},
   "source": [
    "<span style=\"color:#DC537D\"><font size=\"+1\">One Hot Encode categorical input features</font></span>"
   ]
  },
  {
   "cell_type": "code",
   "execution_count": null,
   "id": "4b36dbfe-b8ba-43d0-8528-dbf4f7a6e953",
   "metadata": {},
   "outputs": [],
   "source": [
    "# import encoder\n",
    "from sklearn.preprocessing import OneHotEncoder"
   ]
  },
  {
   "cell_type": "code",
   "execution_count": null,
   "id": "9f0e615a-22c2-46f8-98c8-f8ce9d874159",
   "metadata": {},
   "outputs": [],
   "source": [
    "# create instance\n",
    "ohe = OneHotEncoder()"
   ]
  },
  {
   "cell_type": "code",
   "execution_count": null,
   "id": "90f240ca-f2df-48fd-b93b-c7db5fd336a5",
   "metadata": {},
   "outputs": [],
   "source": [
    "# fit encoder to the categorical columns of training X\n",
    "ohe.fit(X_train[categorical_cols])"
   ]
  },
  {
   "cell_type": "code",
   "execution_count": null,
   "id": "6486f087-a249-42f0-b793-6f9177d4dba4",
   "metadata": {},
   "outputs": [],
   "source": [
    "# transform categorical columns of both train X and test X with fitted encoder\n",
    "ohe_X_train = ohe.transform(X_train[categorical_cols])\n",
    "ohe_X_test = ohe.transform(X_test[categorical_cols])"
   ]
  },
  {
   "cell_type": "code",
   "execution_count": null,
   "id": "60d78bad-2377-4138-bf76-fa53984d1945",
   "metadata": {},
   "outputs": [],
   "source": [
    "# convert to array\n",
    "ohe_X_train = ohe_X_train.toarray()\n",
    "ohe_X_test = ohe_X_test.toarray()"
   ]
  },
  {
   "cell_type": "code",
   "execution_count": null,
   "id": "d6b21412-6e08-494a-9728-6ff63b15c0bd",
   "metadata": {},
   "outputs": [],
   "source": [
    "# check the shapes of the transformed categorical data\n",
    "ohe_X_train.shape, ohe_X_test.shape"
   ]
  },
  {
   "cell_type": "markdown",
   "id": "5e8ac6bf-acbf-4f0a-9788-dde3f4759e93",
   "metadata": {},
   "source": [
    "<span style=\"color:#DC537D\"><font size=\"+1\">Stack the processed columns together</font></span>"
   ]
  },
  {
   "cell_type": "code",
   "execution_count": null,
   "id": "c7736df8-1781-404c-8f09-1295c05cb0b9",
   "metadata": {},
   "outputs": [],
   "source": [
    "# ---------------- stack the processed columns together---------------\n",
    "processed_X_train = np.hstack((numeric_X_train, ohe_X_train))\n",
    "processed_X_test = np.hstack((numeric_X_test, ohe_X_test))\n",
    "\n",
    "processed_X_train.shape, processed_X_test.shape"
   ]
  },
  {
   "cell_type": "markdown",
   "id": "ecbe1c38-f6aa-4ad2-b996-5d3e801c328a",
   "metadata": {},
   "source": [
    "## <span style=\"color:rebeccapurple\">5. Establish a baseline</span></h1>"
   ]
  },
  {
   "cell_type": "markdown",
   "id": "a05642b7-5247-44ac-a01d-df174e2225d4",
   "metadata": {},
   "source": [
    "The simplest prediction you could make would be an \"average diagnosis\":"
   ]
  },
  {
   "cell_type": "code",
   "execution_count": null,
   "id": "3c1c0032-341d-4bc3-a824-80e81c2b089d",
   "metadata": {},
   "outputs": [],
   "source": [
    "df[\"body_mass_g\"].mean()"
   ]
  },
  {
   "cell_type": "markdown",
   "id": "a209213a-7094-4163-b66f-68c18119cc6b",
   "metadata": {},
   "source": [
    "The error on this prediction can be calculated too. Suppose we decide to calculate the mean squared error (MSE)\n",
    "$$MSE = \\overline{(Observed - Expected)^2}$$"
   ]
  },
  {
   "cell_type": "code",
   "execution_count": null,
   "id": "d98208d1-b816-41c4-b0a3-d52517a8e303",
   "metadata": {},
   "outputs": [],
   "source": [
    "error = df[\"body_mass_g\"] - df[\"body_mass_g\"].mean()\n",
    "squared_error = error**2\n",
    "mean_squared_error = np.mean(squared_error)\n",
    "mean_squared_error"
   ]
  },
  {
   "cell_type": "markdown",
   "id": "7bc81788-7da1-4dd9-ac7c-10904c4e73d3",
   "metadata": {},
   "source": [
    "The objective of model training or model optimization is to reduce the training error as much as possible, without over-fitting the model.\n",
    "\n",
    "Note - Ideally you never see the test set, so the \"average prediction\" would be calculated over the train set only."
   ]
  },
  {
   "cell_type": "markdown",
   "id": "0527d0d2-cad3-4d28-b3ae-795b0b961a92",
   "metadata": {},
   "source": [
    "<span style=\"color:#DC537D\"><font size=\"+1\">Provide a baseline target prediction and mean squared error using the training set</font></span><br>\n",
    "Hint: use the training y column to calculate an error"
   ]
  },
  {
   "cell_type": "code",
   "execution_count": null,
   "id": "cce7cbca-b803-4a3c-bacf-db19741c848d",
   "metadata": {},
   "outputs": [],
   "source": [
    "error = y_train - y_train.mean()\n",
    "np.mean(error**2) # mean squared error"
   ]
  },
  {
   "cell_type": "markdown",
   "id": "b5c51945-783a-4691-b238-79c624893b80",
   "metadata": {},
   "source": [
    "## <span style=\"color:rebeccapurple\">6. Choose a model</span></h1>"
   ]
  },
  {
   "cell_type": "markdown",
   "id": "0b706ef4-f041-4ddd-870f-8bf451febbe6",
   "metadata": {},
   "source": [
    "<span style=\"color:#DC537D\"><font size=\"+1\">Is this a supervised or unsupervised learning task?</font></span>"
   ]
  },
  {
   "cell_type": "markdown",
   "id": "0db2819f-370d-4dd5-a4d7-ece6d057014a",
   "metadata": {},
   "source": [
    "<span style=\"color:#DC537D\"><font size=\"+1\">Is this a classification or regression task?</font></span>"
   ]
  },
  {
   "cell_type": "markdown",
   "id": "59c757fa-1f98-4324-afc2-98af1e042252",
   "metadata": {},
   "source": [
    "<span style=\"color:#DC537D\"><font size=\"+1\">Are we predicting discrete or continuous values?</font></span>"
   ]
  },
  {
   "cell_type": "markdown",
   "id": "faebd25f-3629-4770-aac4-4bde285f3de8",
   "metadata": {},
   "source": [
    "## <span style=\"color:rebeccapurple\">7. Train the model</span></h1>"
   ]
  },
  {
   "cell_type": "markdown",
   "id": "e5b31004-0a4c-4f68-a29e-d4f99d946596",
   "metadata": {},
   "source": [
    "<span style=\"color:#DC537D\"><font size=\"+1\">Use sklearn to train a linear regression model</font></span>"
   ]
  },
  {
   "cell_type": "code",
   "execution_count": null,
   "id": "d780b3a5-1ad1-4ed5-8bf7-432410d8ff35",
   "metadata": {},
   "outputs": [],
   "source": [
    "# import the model class \n",
    "from sklearn.linear_model import LinearRegression"
   ]
  },
  {
   "cell_type": "code",
   "execution_count": null,
   "id": "1b1c378b-4f19-49c5-9559-87f3efd37dd7",
   "metadata": {},
   "outputs": [],
   "source": [
    "# create an instance of the model object\n",
    "model = "
   ]
  },
  {
   "cell_type": "code",
   "execution_count": null,
   "id": "cc68b50f-ff5f-4461-977c-40ceca134e0f",
   "metadata": {},
   "outputs": [],
   "source": [
    "# fit the model to the processed training data\n"
   ]
  },
  {
   "cell_type": "code",
   "execution_count": null,
   "id": "a8f8cd06-ba85-4bb5-8cb4-c2fb91e9c07c",
   "metadata": {},
   "outputs": [],
   "source": [
    "# get the intercept and model coefficients\n"
   ]
  },
  {
   "cell_type": "code",
   "execution_count": null,
   "id": "70e78047-5d35-41f9-b814-0c7c7ec01fc4",
   "metadata": {},
   "outputs": [],
   "source": [
    "# get the model one-hot encoded categories\n"
   ]
  },
  {
   "cell_type": "code",
   "execution_count": null,
   "id": "5f0e6ae4-f37a-4a06-a022-6341925f89aa",
   "metadata": {},
   "outputs": [],
   "source": [
    "# get the coefficients inside a nice dataframe\n",
    "feature_names = numeric_cols + list(ohe.categories_[0]) + list(ohe.categories_[1]) + list(ohe.categories_[2])+ list(ohe.categories_[3])\n",
    "\n",
    "coefs = pd.DataFrame(data= model.coef_ ,\n",
    "                     columns= [\"Coefficients\"], \n",
    "                     index= feature_names )\n",
    "\n",
    "coefs"
   ]
  },
  {
   "cell_type": "markdown",
   "id": "ba01d3a0-612b-43cb-93a1-572c568b87bf",
   "metadata": {},
   "source": [
    "<span style=\"color:#DC537D\"><font size=\"+1\">Which features look most relevant?</font></span>"
   ]
  },
  {
   "cell_type": "code",
   "execution_count": null,
   "id": "2b16fbc2-1c78-4fcc-a8c3-03e3059892ab",
   "metadata": {},
   "outputs": [],
   "source": [
    "# plot the model coefficients\n",
    "coefs.plot.barh(figsize=(10, 4))\n",
    "plt.axvline(x=0, color=\".5\")\n",
    "plt.xlabel(\"Coefficient values\")\n",
    "plt.subplots_adjust(left=0.3)"
   ]
  },
  {
   "cell_type": "code",
   "execution_count": null,
   "id": "91f4a428-4eb5-4f23-9ff2-92e16ff72313",
   "metadata": {},
   "outputs": [],
   "source": []
  },
  {
   "cell_type": "markdown",
   "id": "99325f34-9a4b-4b50-9a03-b19e7108ecdf",
   "metadata": {},
   "source": [
    "## <span style=\"color:rebeccapurple\">10. Predict values for the test set</span></h1>"
   ]
  },
  {
   "cell_type": "markdown",
   "id": "e7c14b8d-4d55-4caa-aea7-8a4510ee1c4a",
   "metadata": {},
   "source": [
    "<span style=\"color:#DC537D\"><font size=\"+1\">Generate predictions from your trained model</font></span>"
   ]
  },
  {
   "cell_type": "code",
   "execution_count": null,
   "id": "5eda708c-c86a-4734-80db-a8114945defa",
   "metadata": {},
   "outputs": [],
   "source": [
    "# generate predictions from your trained model\n",
    "y_predicted_train = \n",
    "y_predicted_test = \n",
    "\n",
    "y_predicted_train.shape, y_predicted_test.shape"
   ]
  },
  {
   "cell_type": "code",
   "execution_count": null,
   "id": "58ffd5dc-2fd2-4ab3-ace7-ef1d156099d2",
   "metadata": {},
   "outputs": [],
   "source": [
    "# plot\n",
    "fig, axes = plt.subplots(nrows=1, ncols=2, figsize=(10,3))\n",
    "\n",
    "axes[0].scatter(y_train, y_predicted_train, s=2)\n",
    "axes[0].set_title(\"Train data\")\n",
    "axes[1].scatter(y_test, y_predicted_test, s=2)\n",
    "axes[1].set_title(\"Test data\")\n",
    "\n",
    "for ax in axes:\n",
    "    ax.plot([0, 1], [0, 1], transform=ax.transAxes, ls=\"--\", c=\"red\")\n",
    "    ax.set(xlabel=\"Observed y\", ylabel=\"Predicted y\")"
   ]
  },
  {
   "cell_type": "markdown",
   "id": "2260294d-999b-47c6-af6d-aba8af9c977c",
   "metadata": {},
   "source": [
    "## <span style=\"color:rebeccapurple\">11. Evaluate the model</span>"
   ]
  },
  {
   "cell_type": "markdown",
   "id": "0a24e9ba-ee6b-40cf-ae62-b880b89fe86f",
   "metadata": {},
   "source": [
    "<span style=\"color:#DC537D\"><font size=\"+1\">What is the MSE?</font></span>"
   ]
  },
  {
   "cell_type": "code",
   "execution_count": null,
   "id": "e17587f6-f526-4dbf-bf32-1ccf10db5382",
   "metadata": {},
   "outputs": [],
   "source": [
    "# import metric function\n",
    "from sklearn.metrics import mean_squared_error"
   ]
  },
  {
   "cell_type": "code",
   "execution_count": null,
   "id": "4db75ef2-6070-40bc-adea-8fd2a1eca77a",
   "metadata": {},
   "outputs": [],
   "source": [
    "# calculate metric for test\n"
   ]
  },
  {
   "cell_type": "code",
   "execution_count": null,
   "id": "6b9a6bf6-16ca-4f95-9f0a-f82a5195069c",
   "metadata": {},
   "outputs": [],
   "source": [
    "# calculate metric for train\n"
   ]
  },
  {
   "cell_type": "markdown",
   "id": "757d60f9-9014-4d54-9ed2-b1de332c3c6e",
   "metadata": {},
   "source": [
    "<span style=\"color:#DC537D\"><font size=\"+1\">What is the $R^2$?</font></span>"
   ]
  },
  {
   "cell_type": "code",
   "execution_count": null,
   "id": "257638a2-6096-439a-b07d-305d0c2f2693",
   "metadata": {},
   "outputs": [],
   "source": [
    "# import metric function\n",
    "from sklearn.metrics import r2_score"
   ]
  },
  {
   "cell_type": "code",
   "execution_count": null,
   "id": "2370e1b8-0864-4564-b60e-7a162882f70a",
   "metadata": {},
   "outputs": [],
   "source": [
    "# calculate metric for test\n"
   ]
  },
  {
   "cell_type": "code",
   "execution_count": null,
   "id": "4f2598ed-6c33-4f87-8fd5-74c182e36941",
   "metadata": {},
   "outputs": [],
   "source": [
    "# calculate metric for train\n"
   ]
  },
  {
   "cell_type": "code",
   "execution_count": null,
   "id": "edc209a9-5417-47d9-9d4e-3cd1352070a9",
   "metadata": {},
   "outputs": [],
   "source": []
  },
  {
   "cell_type": "markdown",
   "id": "c61d1c3c-ed5b-48b3-9793-8cb94570a8b8",
   "metadata": {
    "tags": []
   },
   "source": [
    "# <span style=\"color:rebeccapurple\">Bonus Questions</span>\n",
    "Feel free to code out variations of the ML workflow to answer these questions"
   ]
  },
  {
   "cell_type": "markdown",
   "id": "b6ee4d51-a4dd-48fd-bc8a-fe3e7de7a8e2",
   "metadata": {},
   "source": [
    "<span style=\"color:#DC537D\"><font size=\"+1\">Does changing the train-test split ratio improve the model?</font></span>\n",
    "<br>Hint: does the fraction of the split matter, or does the sample size?"
   ]
  },
  {
   "cell_type": "markdown",
   "id": "c2b9bed1-4239-4cc0-957e-8f96f0d9b7f8",
   "metadata": {},
   "source": [
    "<span style=\"color:#DC537D\"><font size=\"+1\">Do you always get the same result when you randomly split the train and test sets multiple times?</font></span>\n",
    "<br>Hint: think about the variance in the model"
   ]
  },
  {
   "cell_type": "markdown",
   "id": "a4b5ecc6-d5e4-4477-9d81-c4b96bc4f2d0",
   "metadata": {},
   "source": [
    "<span style=\"color:#DC537D\"><font size=\"+1\">Are the features and target variables normally distributed?</font></span>\n",
    "<br>Hint: think about transforming individual features _before_ pre-processing to make it more normal-like"
   ]
  },
  {
   "cell_type": "markdown",
   "id": "57f613a9-837d-419f-8e5c-2e5545e9b637",
   "metadata": {},
   "source": [
    "<span style=\"color:#DC537D\"><font size=\"+1\">Does scaling really matter?</font></span>\n",
    "<br>Hint: don't pre-process the numerical columns before modeling and compare the model coefficients with and without pre-processing. OR - multiply a numeric column by 1000, and then fit the model again without standardization, to see if the numeric feature you selected becomes more or less important!"
   ]
  },
  {
   "cell_type": "code",
   "execution_count": null,
   "id": "b4dbf648-f0f0-4405-9cbe-f2f2bc62ff8d",
   "metadata": {},
   "outputs": [],
   "source": []
  }
 ],
 "metadata": {
  "kernelspec": {
   "display_name": "Python 3 (ipykernel)",
   "language": "python",
   "name": "python3"
  },
  "language_info": {
   "codemirror_mode": {
    "name": "ipython",
    "version": 3
   },
   "file_extension": ".py",
   "mimetype": "text/x-python",
   "name": "python",
   "nbconvert_exporter": "python",
   "pygments_lexer": "ipython3",
   "version": "3.10.14"
  }
 },
 "nbformat": 4,
 "nbformat_minor": 5
}
