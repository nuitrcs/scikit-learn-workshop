{
 "cells": [
  {
   "cell_type": "markdown",
   "id": "855e6e11-389a-4edb-9b32-eef018d04f17",
   "metadata": {
    "tags": []
   },
   "source": [
    "# <span style=\"color:deeppink\">Linear Regression with Regularization</span>"
   ]
  },
  {
   "cell_type": "markdown",
   "id": "b7dff7cd-dda8-41f8-9b7b-4523d5494ec9",
   "metadata": {},
   "source": [
    "## <span style=\"color:rebeccapurple\">Notebook 3: Regularized model</span>"
   ]
  },
  {
   "cell_type": "markdown",
   "id": "74cd7566-72df-4aec-b3e4-1a58d86dfc59",
   "metadata": {
    "tags": []
   },
   "source": [
    "## <span style=\"color:rebeccapurple\">ML workflow steps:</span>\n",
    "\n",
    "1. State the problem\n",
    "2. Gather the data\n",
    "3. Split train-test sets\n",
    "4. Pre-process the data\n",
    "5. Establish a baseline\n",
    "6. Choose a model\n",
    "7. Train the model\n",
    "8. Optimize the model\n",
    "9. Validate the model\n",
    "10. Predict unknown data points using the model\n",
    "11. Interpret and evaluate the model"
   ]
  },
  {
   "cell_type": "code",
   "execution_count": null,
   "id": "02beb87d-5d60-4945-97f5-00d3ee0edeea",
   "metadata": {
    "tags": []
   },
   "outputs": [],
   "source": [
    "# Import required packages\n",
    "import pandas as pd\n",
    "import numpy as np\n",
    "import matplotlib\n",
    "import matplotlib.pyplot as plt\n",
    "import seaborn as sns\n",
    "\n",
    "import sklearn"
   ]
  },
  {
   "cell_type": "code",
   "execution_count": null,
   "id": "58f1d89e-b7f7-4971-b1b5-bca840bcc93a",
   "metadata": {
    "tags": []
   },
   "outputs": [],
   "source": [
    "# setting some figure display paramaters\n",
    "sns.set_context('notebook')\n",
    "sns.set_style('white', {'axes.linewidth': 0.5})\n",
    "matplotlib.rcParams.update(matplotlib.rcParamsDefault)\n",
    "\n",
    "plt.rcParams['figure.dpi'] = 150\n",
    "plt.rcParams['xtick.major.size'] = 3\n",
    "plt.rcParams['xtick.major.width'] = 1\n",
    "plt.rcParams['xtick.bottom'] = True\n",
    "plt.rcParams['ytick.left'] = True\n",
    "plt.rcParams['font.family'] = 'sans-serif'\n",
    "plt.rcParams['font.sans-serif'] = 'Arial'\n",
    "plt.rcParams['pdf.fonttype'] = 42\n",
    "plt.rcParams['legend.edgecolor'] = 'w'"
   ]
  },
  {
   "cell_type": "markdown",
   "id": "f1037cbd-8863-4415-a167-a3ec13a400f3",
   "metadata": {
    "tags": []
   },
   "source": [
    "## <span style=\"color:rebeccapurple\">Why regularization?</span></h1>\n",
    "\n",
    "We are going to use the same approach as notebook 1, but this time we will add **regularization**  to the model to see if it can be improved.\n",
    "\n",
    "Regularization adds a penalty during model training, such that larger weights (coefficients) are penalized. Think of regularization as a method to reduce the dependence of the weights on the data, and to prevent weights from exploding in the presence of extreme outliers."
   ]
  },
  {
   "cell_type": "markdown",
   "id": "d70bcf21-44bf-486d-9617-97379d26e2e2",
   "metadata": {},
   "source": [
    "Remember the linear regressor minimizes the RSS. Now if you add a weight penalty the total \"error\" looks like:\n",
    "$$ \n",
    "RSS + penalty  \\\\\n",
    "= (y_{pred} - y_{obs})^2 + penalty  \\\\\n",
    "= (\\beta_0 + \\sum_{i=1}^N \\beta_i x_i - y_{obs})^2 + penalty \\\\\n",
    "$$"
   ]
  },
  {
   "cell_type": "markdown",
   "id": "f2b8b853-9450-4a6c-83c0-1b4965c7d3e0",
   "metadata": {},
   "source": [
    "Usually, we use either the L1 norm (lasso) or the L2 norm (ridge) (or a combination of the two) of the model weights as the penalty. \n",
    "$$\n",
    "L1 = \\lambda \\sum_{i=1}^N\\ \\|\\beta_i\\|\n",
    "$$\n",
    "\n",
    "$$\n",
    "L2 = \\lambda \\sum_{i=1}^N\\beta_i^2\n",
    "$$\n",
    "\n",
    "Here, $\\lambda$ is the tuning parameter that decides how much we want to penalize the flexibility of our model."
   ]
  },
  {
   "cell_type": "markdown",
   "id": "d7747ad9-b391-4690-83f9-33c47b1ce4d6",
   "metadata": {},
   "source": [
    "## <span style=\"color:rebeccapurple\">Setup for linear model</span></h1>\n",
    "Let's re-do the Steps 1-6 as before"
   ]
  },
  {
   "cell_type": "markdown",
   "id": "7899a19d-b2e3-4210-a3ad-26e5dd30c39c",
   "metadata": {},
   "source": [
    "<h4><span style=\"color:blue\">Google Colab users only -- un-comment the code lines below and run them to download the dataset and read it</span></h4>"
   ]
  },
  {
   "cell_type": "code",
   "execution_count": null,
   "id": "08bf3048-981d-48e0-826e-a41f0a280e73",
   "metadata": {},
   "outputs": [],
   "source": [
    "# !wget https://raw.githubusercontent.com/nuitrcs/scikit-learn-workshop/main/data/penguins.csv\n",
    "# df = pd.read_csv('penguins.csv')"
   ]
  },
  {
   "cell_type": "code",
   "execution_count": null,
   "id": "9019980b-4edf-4c12-a824-9ff8a5f99ce3",
   "metadata": {},
   "outputs": [],
   "source": [
    "# 1 - task : predict body mass from penguin features\n",
    "# 2 - load data\n",
    "df = pd.read_csv('data/penguins.csv')"
   ]
  },
  {
   "cell_type": "code",
   "execution_count": null,
   "id": "fe9ad830-c7ad-4ecc-9e10-d4df0c719a3d",
   "metadata": {},
   "outputs": [],
   "source": [
    "# 3 - split features and target\n",
    "X = df.drop(columns=\"body_mass_g\")\n",
    "y = df.body_mass_g\n",
    "\n",
    "# 4 - split train and test\n",
    "from sklearn.model_selection import train_test_split\n",
    "X_train, X_test, y_train, y_test = train_test_split(X, y, test_size=0.2)"
   ]
  },
  {
   "cell_type": "code",
   "execution_count": null,
   "id": "6ceba605-977e-46cf-975e-93e4deff2012",
   "metadata": {},
   "outputs": [],
   "source": [
    "# 5 - pre-process the data - numeric\n",
    "numeric_cols = ['bill_length_mm', 'bill_depth_mm', 'flipper_length_mm']\n",
    "\n",
    "from sklearn.preprocessing import StandardScaler\n",
    "scaler = StandardScaler()\n",
    "scaler.fit(X_train[numeric_cols])\n",
    "\n",
    "numeric_X_train = scaler.transform(X_train[numeric_cols])\n",
    "numeric_X_test  = scaler.transform(X_test[numeric_cols])"
   ]
  },
  {
   "cell_type": "code",
   "execution_count": null,
   "id": "c43f2bde-456a-498e-a551-bb0ea010bcde",
   "metadata": {},
   "outputs": [],
   "source": [
    "# 5 - pre-process the data - categorical\n",
    "categorical_cols = ['species', 'island', 'sex', 'year']\n",
    "\n",
    "from sklearn.preprocessing import OneHotEncoder\n",
    "ohe = OneHotEncoder()\n",
    "\n",
    "ohe.fit(X_train[categorical_cols])\n",
    "\n",
    "ohe_X_train = ohe.transform(X_train[categorical_cols]) # transform train set\n",
    "ohe_X_test = ohe.transform(X_test[categorical_cols])   # transform test set\n",
    "\n",
    "# convert to numpy array\n",
    "ohe_X_train = ohe_X_train.toarray()\n",
    "ohe_X_test = ohe_X_test.toarray()"
   ]
  },
  {
   "cell_type": "code",
   "execution_count": null,
   "id": "7afb5573-462e-4007-8a6e-e8a47afcc1a3",
   "metadata": {},
   "outputs": [],
   "source": [
    "# 5 - stack the processed columns together\n",
    "processed_X_train = np.hstack((numeric_X_train, ohe_X_train))\n",
    "processed_X_test = np.hstack((numeric_X_test, ohe_X_test))\n",
    "\n",
    "processed_X_train.shape, processed_X_test.shape"
   ]
  },
  {
   "cell_type": "markdown",
   "id": "7f9c5864-8396-467d-adbc-1786e42a7001",
   "metadata": {},
   "source": [
    "For Step 6 - we can now assume our old model (without regularization) is the \"baseline\" model"
   ]
  },
  {
   "cell_type": "markdown",
   "id": "7b84477e-f531-4ed6-b5bb-1dd116164e2e",
   "metadata": {},
   "source": [
    "## <span style=\"color:rebeccapurple\">7. Train the model</span></h1>"
   ]
  },
  {
   "cell_type": "markdown",
   "id": "fbc76285-92dd-4cb8-9766-d8b526c80e8c",
   "metadata": {},
   "source": [
    "We will train 3 models, one with L1 (Lasso), one with L2 (ridge) and one with both L1 and L2 (elastic net) regularization"
   ]
  },
  {
   "cell_type": "markdown",
   "id": "49fe56a7-d7c7-47da-ba41-50ae7f7d2c5c",
   "metadata": {},
   "source": [
    "## <span style=\"color:rebeccapurple\">8. Optimize the model</span></h1>"
   ]
  },
  {
   "cell_type": "code",
   "execution_count": null,
   "id": "0b8837bd-c9f3-4d68-9f27-fd47dd3e9efe",
   "metadata": {},
   "outputs": [],
   "source": [
    "from sklearn import linear_model"
   ]
  },
  {
   "cell_type": "code",
   "execution_count": null,
   "id": "561f3206-dab4-459f-9f11-ff2ceec59603",
   "metadata": {},
   "outputs": [],
   "source": [
    "model0 = linear_model.LinearRegression()"
   ]
  },
  {
   "cell_type": "code",
   "execution_count": null,
   "id": "c5cc2576-983c-47dc-a004-8a43bade69c2",
   "metadata": {},
   "outputs": [],
   "source": [
    "alpha = 0.1"
   ]
  },
  {
   "cell_type": "code",
   "execution_count": null,
   "id": "0be48ac0-ebf7-4b54-bed9-7995cfb611ed",
   "metadata": {},
   "outputs": [],
   "source": [
    "model1 = linear_model.Lasso(alpha=alpha) # alpha controls regularization strength"
   ]
  },
  {
   "cell_type": "code",
   "execution_count": null,
   "id": "263db4fb-6203-47c3-9b79-820a5e40bf02",
   "metadata": {},
   "outputs": [],
   "source": [
    "model2 = linear_model.Ridge(alpha=alpha)"
   ]
  },
  {
   "cell_type": "code",
   "execution_count": null,
   "id": "1bebd498-dfd7-4037-8a49-5a8333515bc8",
   "metadata": {},
   "outputs": [],
   "source": [
    "model3 = linear_model.ElasticNet(alpha=alpha, l1_ratio=0.5)"
   ]
  },
  {
   "cell_type": "code",
   "execution_count": null,
   "id": "87a17c2e-dc4e-4157-9337-a0127e905dde",
   "metadata": {},
   "outputs": [],
   "source": [
    "# fit the models to the training data\n",
    "model0.fit(processed_X_train, y_train)\n",
    "model1.fit(processed_X_train, y_train)\n",
    "model2.fit(processed_X_train, y_train)\n",
    "model3.fit(processed_X_train, y_train)"
   ]
  },
  {
   "cell_type": "code",
   "execution_count": null,
   "id": "5df3cc39-fbf8-40c0-a6e8-a2d36f1336ed",
   "metadata": {},
   "outputs": [],
   "source": [
    "ohe.categories_"
   ]
  },
  {
   "cell_type": "code",
   "execution_count": null,
   "id": "0b4f6ba2-09a6-42d2-8d80-fc6de4237b78",
   "metadata": {},
   "outputs": [],
   "source": [
    "# get the intercept and model coefficients\n",
    "feature_names = numeric_cols + list(ohe.categories_[0]) + list(ohe.categories_[1]) + list(ohe.categories_[2]) + list(ohe.categories_[3])\n",
    "\n",
    "coefs = pd.DataFrame({\"Lasso\" : model1.coef_, \n",
    "                      \"Ridge\" : model2.coef_, \n",
    "                      \"Elastic_net\" : model3.coef_,\n",
    "                      \"OLS\": model0.coef_, })\n",
    "coefs.index = feature_names\n",
    "\n",
    "coefs"
   ]
  },
  {
   "cell_type": "markdown",
   "id": "4616c0d3-e021-4cef-a3e8-a7cf44d9a8b1",
   "metadata": {},
   "source": [
    "<span style=\"color:#DC537D\"><font size=\"+1\">What do you notice about the coefficients?</font></span>"
   ]
  },
  {
   "cell_type": "code",
   "execution_count": null,
   "id": "2ed9a1fe-f3a2-46ec-801c-cb49dae1469f",
   "metadata": {},
   "outputs": [],
   "source": [
    "coefs[\"feature\"] = feature_names"
   ]
  },
  {
   "cell_type": "code",
   "execution_count": null,
   "id": "b39d41e6-b32a-4a11-afdb-7f950f9a9425",
   "metadata": {},
   "outputs": [],
   "source": [
    "# plot the model coefficients for all models\n",
    "coefs.plot(x=\"feature\", kind=\"barh\", stacked=False, title=\"Model coefficients\")"
   ]
  },
  {
   "cell_type": "code",
   "execution_count": null,
   "id": "17037aa5-6696-4786-ab5d-bf5481826921",
   "metadata": {},
   "outputs": [],
   "source": [
    "# plot the model coefficients for L1 and L2 models only\n",
    "coefs[[\"feature\", \"Lasso\", \"Ridge\"]].plot(x=\"feature\", kind=\"barh\", stacked=False, title=\"Model coefficients\")"
   ]
  },
  {
   "cell_type": "markdown",
   "id": "60b84939-ff1d-406e-9aee-8e9e5f719bdd",
   "metadata": {},
   "source": [
    "<span style=\"color:#DC537D\"><font size=\"+1\">Do any values seem missing in the plot above?</font></span>"
   ]
  },
  {
   "cell_type": "markdown",
   "id": "3710e3d3-2bd8-4c18-ac59-e9be91fb9f7b",
   "metadata": {},
   "source": [
    "## <span style=\"color:rebeccapurple\">10. Predict values for the test set  <br> 11. Evaluate performance</span></h1>"
   ]
  },
  {
   "cell_type": "code",
   "execution_count": null,
   "id": "d46dcbdb-5478-4e1e-9431-4c186d2316e4",
   "metadata": {},
   "outputs": [],
   "source": [
    "from sklearn.metrics import r2_score\n",
    "from sklearn.metrics import mean_squared_error\n",
    "\n",
    "for model, name in zip([model0, model1,  model2, model3], [\"OLS\", \"Lasso\", \"Ridge\", \"Elastic Net\"]):\n",
    "    print(\"\\n\")\n",
    "    print(name)\n",
    "    \n",
    "    # predict\n",
    "    y_predicted_test = model.predict(processed_X_test)\n",
    "    \n",
    "    # evaluate performance\n",
    "    print(\"test R2 : \", round(r2_score(y_test, y_predicted_test), 3))\n",
    "    print(\"test MSE : \", int(mean_squared_error(y_test, y_predicted_test)))"
   ]
  },
  {
   "cell_type": "markdown",
   "id": "98437baa-ed85-48ca-b082-00dcc6a6d41e",
   "metadata": {},
   "source": [
    "<span style=\"color:#DC537D\"><font size=\"+2\">How does alpha (lambda) affect the results?</font></span>\n",
    "<br> Change the value of alpha across 0.1, 10, 100 for lasso and ridge regression models and plot the results. <br> Also calculate the model performance across these different values of alpha."
   ]
  },
  {
   "cell_type": "code",
   "execution_count": null,
   "id": "5873c9ed-b085-472a-a601-7acfa838135e",
   "metadata": {},
   "outputs": [],
   "source": [
    "coefficient_dataframe_list = []\n",
    "\n",
    "for alpha in [0.1, 10, 100]:\n",
    "    # define model hyperparams\n",
    "    model1 = linear_model.Lasso(alpha=alpha)\n",
    "    model2 = linear_model.Ridge(alpha=alpha)\n",
    "    \n",
    "    # fit the model on train data\n",
    "    model1.fit(processed_X_train, y_train)\n",
    "    model2.fit(processed_X_train, y_train)\n",
    "    \n",
    "    #get coefficients table\n",
    "    coefs = pd.DataFrame({\"Lasso\" : model1.coef_, \"Ridge\" : model2.coef_, })\n",
    "    coefs[\"feature\"] = feature_names\n",
    "    coefs[\"alpha\"] = alpha\n",
    "    \n",
    "    # append to list\n",
    "    coefficient_dataframe_list.append(coefs)\n",
    "    \n",
    "# concat the list of dataframes\n",
    "final_coefs = pd.concat(coefficient_dataframe_list)"
   ]
  },
  {
   "cell_type": "code",
   "execution_count": null,
   "id": "3a0adf3a-485a-4a7b-9b0b-818fda7deac5",
   "metadata": {},
   "outputs": [],
   "source": [
    "final_coefs"
   ]
  },
  {
   "cell_type": "code",
   "execution_count": null,
   "id": "e246e2f1-a781-4b1f-90f9-fabc52e1ea8f",
   "metadata": {},
   "outputs": [],
   "source": [
    "# plot the results for alpha = 0.1\n",
    "plot_df = final_coefs.loc[final_coefs.alpha==0.1, [\"Lasso\", \"Ridge\", \"feature\"]]\n",
    "plot_df.plot()"
   ]
  },
  {
   "cell_type": "code",
   "execution_count": null,
   "id": "bee6f08a-430c-4144-a99b-38931b5e12b4",
   "metadata": {},
   "outputs": [],
   "source": [
    "# plot the results for alpha = 10\n",
    "plot_df = final_coefs.loc[final_coefs.alpha==10, [\"Lasso\", \"Ridge\", \"feature\"]]\n",
    "plot_df.plot(x=\"feature\", kind=\"barh\", stacked=False, title=\"Model coefficients\")"
   ]
  },
  {
   "cell_type": "code",
   "execution_count": null,
   "id": "bda44e4f-cb32-45ae-98c3-31e5d4daf7e4",
   "metadata": {},
   "outputs": [],
   "source": [
    "# plot the results for alpha=100\n",
    "plot_df = final_coefs.loc[final_coefs.alpha==100, [\"Lasso\", \"Ridge\", \"feature\"]]\n",
    "plot_df.plot(x=\"feature\", kind=\"barh\", stacked=False, title=\"Model coefficients\")"
   ]
  },
  {
   "cell_type": "code",
   "execution_count": null,
   "id": "8d9259c0-0a5c-4606-877a-98415d49b313",
   "metadata": {},
   "outputs": [],
   "source": []
  }
 ],
 "metadata": {
  "kernelspec": {
   "display_name": "Python 3 (ipykernel)",
   "language": "python",
   "name": "python3"
  },
  "language_info": {
   "codemirror_mode": {
    "name": "ipython",
    "version": 3
   },
   "file_extension": ".py",
   "mimetype": "text/x-python",
   "name": "python",
   "nbconvert_exporter": "python",
   "pygments_lexer": "ipython3",
   "version": "3.10.14"
  }
 },
 "nbformat": 4,
 "nbformat_minor": 5
}
